{
 "cells": [
  {
   "cell_type": "markdown",
   "id": "83544be8",
   "metadata": {},
   "source": [
    "# Purpose\n",
    "\n",
    "This notebook will analyze symon data for finding all applications which connect out to the network and look at which "
   ]
  },
  {
   "cell_type": "code",
   "execution_count": 1,
   "id": "49176cb0-7832-4ff7-8b1f-00599deda847",
   "metadata": {
    "tags": []
   },
   "outputs": [
    {
     "name": "stdout",
     "output_type": "stream",
     "text": [
      "Requirement already satisfied: pandas in /Library/Frameworks/Python.framework/Versions/3.7/lib/python3.7/site-packages (1.3.5)\n",
      "Requirement already satisfied: python-dateutil>=2.7.3 in /Library/Frameworks/Python.framework/Versions/3.7/lib/python3.7/site-packages (from pandas) (2.8.2)\n",
      "Requirement already satisfied: numpy>=1.17.3; platform_machine != \"aarch64\" and platform_machine != \"arm64\" and python_version < \"3.10\" in /Library/Frameworks/Python.framework/Versions/3.7/lib/python3.7/site-packages (from pandas) (1.21.5)\n",
      "Requirement already satisfied: pytz>=2017.3 in /Library/Frameworks/Python.framework/Versions/3.7/lib/python3.7/site-packages (from pandas) (2021.3)\n",
      "Requirement already satisfied: six>=1.5 in /Library/Frameworks/Python.framework/Versions/3.7/lib/python3.7/site-packages (from python-dateutil>=2.7.3->pandas) (1.16.0)\n",
      "\u001b[33mWARNING: You are using pip version 20.1.1; however, version 22.1.2 is available.\n",
      "You should consider upgrading via the '/usr/local/bin/python3 -m pip install --upgrade pip' command.\u001b[0m\n",
      "Requirement already satisfied: lxml in /Library/Frameworks/Python.framework/Versions/3.7/lib/python3.7/site-packages (4.9.1)\n",
      "\u001b[33mWARNING: You are using pip version 20.1.1; however, version 22.1.2 is available.\n",
      "You should consider upgrading via the '/usr/local/bin/python3 -m pip install --upgrade pip' command.\u001b[0m\n",
      "Requirement already satisfied: seaborn in /Library/Frameworks/Python.framework/Versions/3.7/lib/python3.7/site-packages (0.11.2)\n",
      "Requirement already satisfied: matplotlib>=2.2 in /Library/Frameworks/Python.framework/Versions/3.7/lib/python3.7/site-packages (from seaborn) (3.5.2)\n",
      "Requirement already satisfied: scipy>=1.0 in /Library/Frameworks/Python.framework/Versions/3.7/lib/python3.7/site-packages (from seaborn) (1.7.3)\n",
      "Requirement already satisfied: pandas>=0.23 in /Library/Frameworks/Python.framework/Versions/3.7/lib/python3.7/site-packages (from seaborn) (1.3.5)\n",
      "Requirement already satisfied: numpy>=1.15 in /Library/Frameworks/Python.framework/Versions/3.7/lib/python3.7/site-packages (from seaborn) (1.21.5)\n",
      "Requirement already satisfied: packaging>=20.0 in /Library/Frameworks/Python.framework/Versions/3.7/lib/python3.7/site-packages (from matplotlib>=2.2->seaborn) (21.3)\n",
      "Requirement already satisfied: kiwisolver>=1.0.1 in /Library/Frameworks/Python.framework/Versions/3.7/lib/python3.7/site-packages (from matplotlib>=2.2->seaborn) (1.4.3)\n",
      "Requirement already satisfied: pyparsing>=2.2.1 in /Library/Frameworks/Python.framework/Versions/3.7/lib/python3.7/site-packages (from matplotlib>=2.2->seaborn) (3.0.7)\n",
      "Requirement already satisfied: python-dateutil>=2.7 in /Library/Frameworks/Python.framework/Versions/3.7/lib/python3.7/site-packages (from matplotlib>=2.2->seaborn) (2.8.2)\n",
      "Requirement already satisfied: pillow>=6.2.0 in /Library/Frameworks/Python.framework/Versions/3.7/lib/python3.7/site-packages (from matplotlib>=2.2->seaborn) (9.2.0)\n",
      "Requirement already satisfied: fonttools>=4.22.0 in /Library/Frameworks/Python.framework/Versions/3.7/lib/python3.7/site-packages (from matplotlib>=2.2->seaborn) (4.33.3)\n",
      "Requirement already satisfied: cycler>=0.10 in /Library/Frameworks/Python.framework/Versions/3.7/lib/python3.7/site-packages (from matplotlib>=2.2->seaborn) (0.11.0)\n",
      "Requirement already satisfied: pytz>=2017.3 in /Library/Frameworks/Python.framework/Versions/3.7/lib/python3.7/site-packages (from pandas>=0.23->seaborn) (2021.3)\n",
      "Requirement already satisfied: typing-extensions; python_version < \"3.8\" in /Library/Frameworks/Python.framework/Versions/3.7/lib/python3.7/site-packages (from kiwisolver>=1.0.1->matplotlib>=2.2->seaborn) (3.10.0.2)\n",
      "Requirement already satisfied: six>=1.5 in /Library/Frameworks/Python.framework/Versions/3.7/lib/python3.7/site-packages (from python-dateutil>=2.7->matplotlib>=2.2->seaborn) (1.16.0)\n",
      "\u001b[33mWARNING: You are using pip version 20.1.1; however, version 22.1.2 is available.\n",
      "You should consider upgrading via the '/usr/local/bin/python3 -m pip install --upgrade pip' command.\u001b[0m\n"
     ]
    }
   ],
   "source": [
    "!python3 -m pip install pandas\n",
    "!python3 -m pip install lxml\n",
    "!python3 -m pip install seaborn"
   ]
  },
  {
   "cell_type": "markdown",
   "id": "bfd13433",
   "metadata": {},
   "source": [
    "## Gather Data\n",
    "\n",
    "This notebook will utilize Sysmon data exported to XML from a Windows 10 machine.  Installing Sysmon with the sysmonconfig-export available from SwiftOnSecurity. I then simply exported the XML data of a system.\n",
    "\n",
    "https://github.com/SwiftOnSecurity/sysmon-config\n",
    "\n",
    "\n",
    "Only certain applications are recorded based on a variety of conditions.  From more information look at sysmon-config and this section for the rules:\n",
    "\n",
    "<NetworkConnect onmatch=\"include\">"
   ]
  },
  {
   "cell_type": "markdown",
   "id": "d61640c4",
   "metadata": {},
   "source": [
    "## Turn data into a Dataframe\n",
    "\n",
    "The data in XML and needs to be moved into a dataframe.  I found some code from Dritzna on Github that I am usingi and it worked out well.  I found parsing XML to be a little slow and wonder how much better it would be to pull from something like Elasticsearch.\n",
    "\n",
    "https://gist.github.com/dtrizna/b0b9ccc488da59fcc7090a21eba93317"
   ]
  },
  {
   "cell_type": "code",
   "execution_count": null,
   "id": "22a869df-5b20-41df-ae7a-e494378fbdc1",
   "metadata": {},
   "outputs": [
    {
     "name": "stdout",
     "output_type": "stream",
     "text": [
      "[!] Found XML file! Preprocessing...\n"
     ]
    }
   ],
   "source": [
    "import pandas as pd\n",
    "import sys\n",
    "from lxml import etree\n",
    "\n",
    "logdf = pd.DataFrame()\n",
    "\n",
    "# Shamelessly stolen from: https://gist.github.com/dtrizna/b0b9ccc488da59fcc7090a21eba93317\n",
    "\n",
    "def read_xml(FILENAME):\n",
    "    parser = etree.XMLParser(recover=True)\n",
    "\n",
    "    with open(FILENAME) as file:\n",
    "        data = file.readlines()\n",
    "\n",
    "    # ignore XML documentation's tag (1st line), so taking only data[1]\n",
    "    raw = etree.fromstring(data[1], parser=parser)\n",
    "    return raw\n",
    "\n",
    "\n",
    "def events_to_df(eventlist):\n",
    "    df = pd.DataFrame()\n",
    "    tag = '{http://schemas.microsoft.com/win/2004/08/events/event}'\n",
    "    for idx, event in enumerate(eventlist):\n",
    "        edict = {}\n",
    "        for element in event.iterdescendants():\n",
    "            if any(x in element.tag for x in ['TimeCreated', 'Execution', 'Security']):\n",
    "                for item in element.items():\n",
    "                    edict[item[0]] = item[1]\n",
    "            # filter out empty fields\n",
    "            elif any(x in element.tag for x in ['Provider', 'System', 'Correlation']):\n",
    "                pass\n",
    "            elif 'Data' in element.tag:\n",
    "                for item in element.items():\n",
    "                    edict[item[1]] = element.text\n",
    "            else:\n",
    "                edict[element.tag.replace(tag,'')] = element.text\n",
    "        \n",
    "        # add raw text event to have ability always access full value of eventlog\n",
    "        edict['raw'] = etree.tostring(event, pretty_print=True).decode()\n",
    "    \n",
    "        edf = pd.DataFrame(edict, index=[idx])\n",
    "        df = df.append(edf, sort=True)    \n",
    "    return df\n",
    "\n",
    "\n",
    "\n",
    "xml = read_xml(\"/Users/daniel.lohin/Documents/sysmon_logs.xml\")\n",
    "print('[!] Found XML file! Preprocessing...')\n",
    "\n",
    "# get all events in list\n",
    "events = []\n",
    "# we see prefix on every tag, define that\n",
    "tag = '{http://schemas.microsoft.com/win/2004/08/events/event}'\n",
    "for element in xml.iter(tag+'Event'):\n",
    "    events.append(element)\n",
    "\n",
    "# transform to dataframe\n",
    "logdf = events_to_df(events)\n",
    "print('[+] File parsed!')\n",
    "print(logdf.head())\n",
    "logdf"
   ]
  },
  {
   "cell_type": "code",
   "execution_count": null,
   "id": "3a7ed117-10d9-496f-84e4-02b10ea4d7b6",
   "metadata": {},
   "outputs": [],
   "source": [
    "logdf\n",
    "print(logdf.keys())"
   ]
  },
  {
   "cell_type": "markdown",
   "id": "1b249155",
   "metadata": {},
   "source": [
    "## Enrich Data\n",
    "\n",
    "Pull out all the events which are establishing a network connection.  Gather information on the counts of connection as well as the standard deviation of these connections being established."
   ]
  },
  {
   "cell_type": "code",
   "execution_count": null,
   "id": "aa8eea08-342f-4b6b-9b2e-d160b3b5fa6c",
   "metadata": {
    "scrolled": true
   },
   "outputs": [],
   "source": [
    "filtered_df = logdf[logdf['DestinationIp'].notnull()]\n",
    "unique_df = pd.DataFrame()\n",
    "#Get the apps that are being utilizing network connections\n",
    "unique_df['Image'] = filtered_df['Image'].unique()\n",
    "unique_df['conn_count'] = unique_df['Image'].apply(lambda x: logdf[(logdf['Image'] == x )]['DestinationIp'].notnull().count())\n",
    "unique_df['std_dev'] = unique_df['Image'].apply(lambda x: pd.to_datetime(logdf[(logdf['Image'] == x )].UtcTime).std())\n",
    "unique_df"
   ]
  },
  {
   "cell_type": "markdown",
   "id": "ca93c41e",
   "metadata": {},
   "source": [
    "## Process Data\n",
    "Work In Progress"
   ]
  },
  {
   "cell_type": "code",
   "execution_count": null,
   "id": "2554e47d",
   "metadata": {},
   "outputs": [],
   "source": [
    "#from sklearn.ensemble import IsolationForest\n",
    "#from sklearn.cluster import KMeans\n",
    "\n",
    "# Train/fit and Predict anomalous instances using the Isolation Forest model\n",
    "#features = ['conn_count','std_dev']\n",
    "#to_matrix = unique_df.values()\n",
    "#conn_matrix = to_matrix.fit_transform(unique_df[features])\n",
    "#print(conn_matrix.shape)\n",
    "#model=IsolationForest(n_estimators=50, max_samples='auto', contamination=float(0.1),max_features=1.0)\n",
    "#model.fit(unique_df[['conn_count']])\n",
    "        \n",
    "#odd_clf = IsolationForest(contamination=0.2)  # Marking 20% as odd\n",
    "#odd_clf.fit(conn_matrix)\n",
    "\n",
    "# Now we create a new dataframe using the prediction from our classifier\n",
    "#predictions = odd_clf.predict(conn_matrix)\n",
    "#odd_df = unique_df[features][predictions == -1]\n",
    "#display_df = unique_df[predictions == -1].copy()\n",
    "\n",
    "# Now we're going to explore our odd observations with help from KMeans\n",
    "#odd_matrix = to_matrix.fit_transform(odd_df)\n",
    "#num_clusters = min(len(odd_df), 4)  # 4 clusters unless we have less than 4 observations\n",
    "#display_df['cluster'] = KMeans(n_clusters=num_clusters).fit_predict(odd_matrix)\n",
    "\n",
    "#odd_matrix = to_matrix.fit_transform(odd_df)\n",
    "#num_clusters = min(len(odd_df), 4)  # 4 clusters unless we have less than 4 observations\n",
    "#display_df['cluster'] = KMeans(n_clusters=num_clusters).fit_predict(odd_matrix)\n",
    "#print(odd_matrix.shape)\n",
    "\n",
    "#features += ['Image']\n",
    "#cluster_groups = display_df[features+['cluster']].groupby('cluster')"
   ]
  },
  {
   "cell_type": "markdown",
   "id": "e6ba4cab",
   "metadata": {},
   "source": [
    "## Print Data\n",
    "\n",
    "Lets see if we see anything by mapping the connections over time."
   ]
  },
  {
   "cell_type": "code",
   "execution_count": null,
   "id": "e0ce3d07-e379-4bb9-bfcd-2425d476145e",
   "metadata": {},
   "outputs": [],
   "source": [
    "import seaborn as sns\n",
    "import matplotlib.pyplot as plt\n",
    "plt.figure(figsize=(200,20))\n",
    "sns.countplot(x='UtcTime', hue='Image', \\\n",
    "             data=logdf[logdf['DestinationIp'].notnull()])\n",
    "plt.show()"
   ]
  },
  {
   "cell_type": "code",
   "execution_count": null,
   "id": "c11f89e2",
   "metadata": {},
   "outputs": [],
   "source": []
  }
 ],
 "metadata": {
  "kernelspec": {
   "display_name": "Python 3 (ipykernel)",
   "language": "python",
   "name": "python3"
  },
  "language_info": {
   "codemirror_mode": {
    "name": "ipython",
    "version": 3
   },
   "file_extension": ".py",
   "mimetype": "text/x-python",
   "name": "python",
   "nbconvert_exporter": "python",
   "pygments_lexer": "ipython3",
   "version": "3.9.12"
  }
 },
 "nbformat": 4,
 "nbformat_minor": 5
}
